{
 "cells": [
  {
   "cell_type": "code",
   "execution_count": 2,
   "id": "03010519",
   "metadata": {},
   "outputs": [
    {
     "name": "stdout",
     "output_type": "stream",
     "text": [
      "7\n",
      "14\n",
      "21\n",
      "28\n",
      "35\n",
      "42\n",
      "49\n",
      "56\n",
      "63\n",
      "70\n",
      "77\n",
      "84\n",
      "91\n",
      "98\n"
     ]
    }
   ],
   "source": [
    "#find out all no. which is divisible by 7 between 1 to 100\n",
    "for i in range(1, 100):\n",
    "\tif(i%7==0):\n",
    "\t\tprint (i)"
   ]
  },
  {
   "cell_type": "code",
   "execution_count": 3,
   "id": "d4cddea4",
   "metadata": {},
   "outputs": [
    {
     "name": "stdout",
     "output_type": "stream",
     "text": [
      "63\n"
     ]
    }
   ],
   "source": [
    "#find out all no. which is divisible by 7 and 9 between 1 to 100\n",
    "for num in range(1,100):\n",
    "    if( num%7==0 and num%9==0 ):\n",
    "        print (num)"
   ]
  },
  {
   "cell_type": "code",
   "execution_count": 8,
   "id": "974236c5",
   "metadata": {},
   "outputs": [
    {
     "name": "stdout",
     "output_type": "stream",
     "text": [
      "2\n",
      "4\n",
      "6\n",
      "8\n",
      "10\n",
      "12\n",
      "14\n",
      "16\n",
      "18\n",
      "20\n",
      "22\n",
      "24\n",
      "26\n",
      "28\n",
      "30\n",
      "32\n",
      "34\n",
      "36\n",
      "38\n",
      "40\n",
      "42\n",
      "44\n",
      "46\n",
      "48\n",
      "50\n",
      "52\n",
      "54\n",
      "56\n",
      "58\n",
      "60\n",
      "62\n",
      "64\n",
      "66\n",
      "68\n",
      "70\n",
      "72\n",
      "74\n",
      "76\n",
      "78\n",
      "80\n",
      "82\n",
      "84\n",
      "86\n",
      "88\n",
      "90\n",
      "92\n",
      "94\n",
      "96\n",
      "98\n",
      "100\n"
     ]
    }
   ],
   "source": [
    "#find all the even numbers between 1 to 100\n",
    "for num in range(1,100):\n",
    "\tif(num%2==0):\n",
    "\t\tprint (num)"
   ]
  },
  {
   "cell_type": "code",
   "execution_count": 6,
   "id": "d90c917d",
   "metadata": {},
   "outputs": [
    {
     "name": "stdout",
     "output_type": "stream",
     "text": [
      "o\n",
      "p\n",
      "t\n",
      "r\n"
     ]
    }
   ],
   "source": [
    "#take a string and print character which is at odd index position\n",
    "string=\"computer\"\n",
    "for index in range(0,len(string)):\n",
    "    if(index%2!=0):\n",
    "        print(string[index])"
   ]
  },
  {
   "cell_type": "code",
   "execution_count": 4,
   "id": "4e50fe50",
   "metadata": {},
   "outputs": [
    {
     "name": "stdout",
     "output_type": "stream",
     "text": [
      "Enter a string: ram\n",
      "The number of consonant: 2\n"
     ]
    }
   ],
   "source": [
    "#find total no. of consonant in string\n",
    "consonants=0\n",
    "user_input=input(\"Enter a string: \")\n",
    "string=user_input.lower()\n",
    "for i in range(0,len(string)):  \n",
    "    if string[i] not in (\"a\",\"e\",\"i\",\"o\",\"u\"):  \n",
    "        consonants=consonants + 1\n",
    "print(\"The number of consonant:\",consonants)"
   ]
  },
  {
   "cell_type": "code",
   "execution_count": 3,
   "id": "0f19aec7",
   "metadata": {},
   "outputs": [
    {
     "name": "stdout",
     "output_type": "stream",
     "text": [
      "enter first number:23\n",
      "enter second number:34\n",
      "condition not satisfied\n"
     ]
    }
   ],
   "source": [
    "#take input of two numbers and check num1 is divisible by 4 or not and num2 is divisible by 6 or not\n",
    "num1=int(input(\"enter first number:\"))\n",
    "num2=int(input(\"enter second number:\"))\n",
    "if(num1%4==0 and num2%6==0):\n",
    "    print(\"num1 is divisible by 4 and num2 is divisible by 6\")\n",
    "elif(num1%4==0 and num2%6!=0):\n",
    "    print(\"num1 is divisible by 4 and num2 is not divisible by 6\")\n",
    "elif(num1%4!=0 and num2%6==0):\n",
    "    print(\"num1 is not divisible by 4 and num2 is divisible by 6\")\n",
    "else:\n",
    "    print(\"condition not satisfied\")\n",
    "\n",
    "\n",
    "\n",
    "    "
   ]
  },
  {
   "cell_type": "code",
   "execution_count": 9,
   "id": "d5777b76",
   "metadata": {},
   "outputs": [
    {
     "name": "stdout",
     "output_type": "stream",
     "text": [
      "enter value:12\n",
      "enter valid number\n"
     ]
    }
   ],
   "source": [
    "#take a variable and find certainn condition\n",
    "var=int(input(\"enter value:\"))\n",
    "if (var>20):\n",
    "    print(\"variable is greater than 20\")\n",
    "    if(var==23):\n",
    "        print(\"variable is equal to  23\")\n",
    "    elif(var>=30 and var<=40):\n",
    "        print(\"variable is greater than 30 but less than 40\")\n",
    "else:\n",
    "    print(\"enter valid number\")"
   ]
  },
  {
   "cell_type": "code",
   "execution_count": 16,
   "id": "b45dfa94",
   "metadata": {},
   "outputs": [
    {
     "name": "stdout",
     "output_type": "stream",
     "text": [
      "enter a number:34\n",
      "total of number= 7\n",
      "number is not divisible by 3\n"
     ]
    }
   ],
   "source": [
    "#prg to follow divisibility rule of 3 and check number is divisible or not \n",
    "x=int(input(\"enter a number:\"))\n",
    "y=sum(int(digit)for digit in str(x))\n",
    "print(\"total of number=\",y)\n",
    "if(y%3==0):\n",
    "    print(\"number is divisible by 3\")\n",
    "else:\n",
    "    print(\"number is not divisible by 3\")"
   ]
  },
  {
   "cell_type": "code",
   "execution_count": null,
   "id": "35470061",
   "metadata": {},
   "outputs": [],
   "source": []
  }
 ],
 "metadata": {
  "kernelspec": {
   "display_name": "Python 3 (ipykernel)",
   "language": "python",
   "name": "python3"
  },
  "language_info": {
   "codemirror_mode": {
    "name": "ipython",
    "version": 3
   },
   "file_extension": ".py",
   "mimetype": "text/x-python",
   "name": "python",
   "nbconvert_exporter": "python",
   "pygments_lexer": "ipython3",
   "version": "3.10.11"
  }
 },
 "nbformat": 4,
 "nbformat_minor": 5
}
