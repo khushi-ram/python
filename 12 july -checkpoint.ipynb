{
 "cells": [
  {
   "cell_type": "code",
   "execution_count": 3,
   "id": "b54a0217",
   "metadata": {},
   "outputs": [
    {
     "name": "stdout",
     "output_type": "stream",
     "text": [
      "5\n"
     ]
    }
   ],
   "source": [
    "input_string=\"I am from Kekri and you\"\n",
    "space_count=0\n",
    "for i in input_string:\n",
    "    if (i.isspace()):\n",
    "        space_count+=1\n",
    "print(space_count)"
   ]
  },
  {
   "cell_type": "code",
   "execution_count": 11,
   "id": "1ded7f64",
   "metadata": {},
   "outputs": [
    {
     "name": "stdout",
     "output_type": "stream",
     "text": [
      "enter year2045\n",
      "5 not a even number\n"
     ]
    }
   ],
   "source": [
    "#prg to take a inout from user and if last no. is even and divide by zero\n",
    "year=int(input(\"enter year\"))\n",
    "last_digit = int(str(year)[-1])\n",
    "if(last_digit%2==0):\n",
    "    print(\"even number\",last_digit)\n",
    "    if(year%4==0):\n",
    "        print(\"leap year\")\n",
    "    else:\n",
    "        print(\"not a leap year\")\n",
    "else:\n",
    "    print(last_digit,\"not a even number\")\n",
    "            \n"
   ]
  },
  {
   "cell_type": "code",
   "execution_count": null,
   "id": "7b1b4bb6",
   "metadata": {},
   "outputs": [],
   "source": []
  }
 ],
 "metadata": {
  "kernelspec": {
   "display_name": "Python 3 (ipykernel)",
   "language": "python",
   "name": "python3"
  },
  "language_info": {
   "codemirror_mode": {
    "name": "ipython",
    "version": 3
   },
   "file_extension": ".py",
   "mimetype": "text/x-python",
   "name": "python",
   "nbconvert_exporter": "python",
   "pygments_lexer": "ipython3",
   "version": "3.10.11"
  }
 },
 "nbformat": 4,
 "nbformat_minor": 5
}
